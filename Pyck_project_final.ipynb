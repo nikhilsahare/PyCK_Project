{
 "cells": [
  {
   "cell_type": "code",
   "execution_count": 1,
   "id": "841e4502",
   "metadata": {},
   "outputs": [],
   "source": [
    "# Mini Project for project"
   ]
  },
  {
   "cell_type": "code",
   "execution_count": 2,
   "id": "7848bf53",
   "metadata": {},
   "outputs": [
    {
     "name": "stdout",
     "output_type": "stream",
     "text": [
      "<class 'netCDF4._netCDF4.Dataset'>\n",
      "root group (NETCDF4_CLASSIC data model, file format HDF5):\n",
      "    CCCma_model_hash: 3dedf95315d603326fde4f5340dc0519d80d10c0\n",
      "    CCCma_parent_runid: rc3-pictrl\n",
      "    CCCma_pycmor_hash: 33c30511acc319a98240633965a04ca99c26427e\n",
      "    CCCma_runid: rc3.1-his01\n",
      "    Conventions: CF-1.7 CMIP-6.2\n",
      "    YMDH_branch_time_in_child: 1850:01:01:00\n",
      "    YMDH_branch_time_in_parent: 5201:01:01:00\n",
      "    activity_id: CMIP\n",
      "    branch_method: Spin-up documentation\n",
      "    branch_time_in_child: 0.0\n",
      "    branch_time_in_parent: 1223115.0\n",
      "    contact: ec.cccma.info-info.ccmac.ec@canada.ca\n",
      "    creation_date: 2019-05-02T08:01:47Z\n",
      "    data_specs_version: 01.00.29\n",
      "    experiment: all-forcing simulation of the recent past\n",
      "    experiment_id: historical\n",
      "    external_variables: areacella\n",
      "    forcing_index: 1\n",
      "    frequency: day\n",
      "    further_info_url: https://furtherinfo.es-doc.org/CMIP6.CCCma.CanESM5.historical.none.r1i1p1f1\n",
      "    grid: T63L49 native atmosphere, T63 Linear Gaussian Grid; 128 x 64 longitude/latitude; 49 levels; top level 1 hPa\n",
      "    grid_label: gn\n",
      "    history: 2019-05-02T08:01:47Z ;rewrote data to be consistent with CMIP for variable sfcWind found in table day.;\n",
      "Output from $runid\n",
      "    initialization_index: 1\n",
      "    institution: Canadian Centre for Climate Modelling and Analysis, Environment and Climate Change Canada, Victoria, BC V8P 5C2, Canada\n",
      "    institution_id: CCCma\n",
      "    mip_era: CMIP6\n",
      "    nominal_resolution: 500 km\n",
      "    parent_activity_id: CMIP\n",
      "    parent_experiment_id: piControl\n",
      "    parent_mip_era: CMIP6\n",
      "    parent_source_id: CanESM5\n",
      "    parent_time_units: days since 1850-01-01 0:0:0.0\n",
      "    parent_variant_label: r1i1p1f1\n",
      "    physics_index: 1\n",
      "    product: model-output\n",
      "    realization_index: 1\n",
      "    realm: atmos\n",
      "    references: Geophysical Model Development Special issue on CanESM5 (https://www.geosci-model-dev.net/special_issues.html)\n",
      "    source: CanESM5 (2019): \n",
      "aerosol: interactive\n",
      "atmos: CanAM5 (T63L49 native atmosphere, T63 Linear Gaussian Grid; 128 x 64 longitude/latitude; 49 levels; top level 1 hPa)\n",
      "atmosChem: specified oxidants for aerosols\n",
      "land: CLASS3.6/CTEM1.2\n",
      "landIce: specified ice sheets\n",
      "ocean: NEMO3.4.1 (ORCA1 tripolar grid, 1 deg with refinement to 1/3 deg within 20 degrees of the equator; 361 x 290 longitude/latitude; 45 vertical levels; top grid cell 0-6.19 m)\n",
      "ocnBgchem: Canadian Model of Ocean Carbon (CMOC); NPZD ecosystem with OMIP prescribed carbonate chemistry\n",
      "seaIce: LIM2\n",
      "    source_id: CanESM5\n",
      "    source_type: AOGCM\n",
      "    sub_experiment: none\n",
      "    sub_experiment_id: none\n",
      "    table_id: day\n",
      "    table_info: Creation Date:(20 February 2019) MD5:374fbe5a2bcca535c40f7f23da271e49\n",
      "    title: CanESM5 output prepared for CMIP6\n",
      "    tracking_id: hdl:21.14100/4aef741d-e83b-497a-83f9-ea5acac7c645\n",
      "    variable_id: sfcWind\n",
      "    variant_label: r1i1p1f1\n",
      "    version: v20190429\n",
      "    license: CMIP6 model data produced by The Government of Canada (Canadian Centre for Climate Modelling and Analysis, Environment and Climate Change Canada) is licensed under a Creative Commons Attribution ShareAlike 4.0 International License (https://creativecommons.org/licenses). Consult https://pcmdi.llnl.gov/CMIP6/TermsOfUse for terms of use governing CMIP6 output, including citation requirements and proper acknowledgment. Further information about this data, including some limitations, can be found via the further_info_url (recorded as a global attribute in this file) and at https:///pcmdi.llnl.gov/. The data producers and data providers make no warranty, either express or implied, including, but not limited to, warranties of merchantability and fitness for a particular purpose. All liabilities arising from the supply of the information (including any liability arising in negligence) are excluded to the fullest extent permitted by law.\n",
      "    cmor_version: 3.4.0\n",
      "    dimensions(sizes): time(60225), bnds(2), lat(64), lon(128)\n",
      "    variables(dimensions): float64 time(time), float64 time_bnds(time, bnds), float64 lat(lat), float64 lat_bnds(lat, bnds), float64 lon(lon), float64 lon_bnds(lon, bnds), float64 height(), float32 sfcWind(time, lat, lon)\n",
      "    groups: \n"
     ]
    }
   ],
   "source": [
    "# Importing netCDF4 and other libraries\n",
    "import netCDF4\n",
    "from netCDF4 import Dataset\n",
    "import numpy as np\n",
    "# Reading the netCDF files\n",
    "data = Dataset(r'D:\\MTP\\CANESM5_Past_history\\sfcWind_day_CanESM5_historical_r1i1p1f1_gn_18500101-20141231.nc','r')\n",
    "print(data)\n"
   ]
  },
  {
   "cell_type": "code",
   "execution_count": 3,
   "id": "f83f8f7a",
   "metadata": {},
   "outputs": [
    {
     "name": "stdout",
     "output_type": "stream",
     "text": [
      "dict_keys(['time', 'time_bnds', 'lat', 'lat_bnds', 'lon', 'lon_bnds', 'height', 'sfcWind'])\n"
     ]
    }
   ],
   "source": [
    "# Displaying the names of variables\n",
    "print(data.variables.keys())"
   ]
  },
  {
   "cell_type": "code",
   "execution_count": 4,
   "id": "aa31b882",
   "metadata": {},
   "outputs": [
    {
     "name": "stdout",
     "output_type": "stream",
     "text": [
      "<class 'netCDF4._netCDF4.Variable'>\n",
      "float32 sfcWind(time, lat, lon)\n",
      "    standard_name: wind_speed\n",
      "    long_name: Daily-Mean Near-Surface Wind Speed\n",
      "    comment: near-surface (usually, 10 meters) wind speed.\n",
      "    units: m s-1\n",
      "    original_name: SWA\n",
      "    cell_methods: area: time: mean\n",
      "    cell_measures: area: areacella\n",
      "    history: 2019-05-02T08:01:47Z altered by CMOR: Treated scalar dimension: 'height'. 2019-05-02T08:01:47Z altered by CMOR: Reordered dimensions, original order: lat lon time. 2019-05-02T08:01:47Z altered by CMOR: replaced missing value flag (1e+38) with standard missing value (1e+20).\n",
      "    coordinates: height\n",
      "    missing_value: 1e+20\n",
      "    _FillValue: 1e+20\n",
      "unlimited dimensions: time\n",
      "current shape = (60225, 64, 128)\n",
      "filling on\n",
      "<class 'netCDF4._netCDF4.Variable'>\n",
      "float64 time(time)\n",
      "    bounds: time_bnds\n",
      "    units: days since 1850-01-01 0:0:0.0\n",
      "    calendar: 365_day\n",
      "    axis: T\n",
      "    long_name: time\n",
      "    standard_name: time\n",
      "unlimited dimensions: time\n",
      "current shape = (60225,)\n",
      "filling on, default _FillValue of 9.969209968386869e+36 used\n"
     ]
    }
   ],
   "source": [
    "# Accessing variables\n",
    "wind = data.variables['sfcWind']\n",
    "print(wind)\n",
    "TIME = data.variables['time']\n",
    "print(TIME)"
   ]
  },
  {
   "cell_type": "code",
   "execution_count": 5,
   "id": "e4bde62b",
   "metadata": {},
   "outputs": [
    {
     "name": "stdout",
     "output_type": "stream",
     "text": [
      "<class 'netCDF4._netCDF4.Variable'>\n",
      "float64 lat(lat)\n",
      "    bounds: lat_bnds\n",
      "    units: degrees_north\n",
      "    axis: Y\n",
      "    long_name: Latitude\n",
      "    standard_name: latitude\n",
      "unlimited dimensions: \n",
      "current shape = (64,)\n",
      "filling on, default _FillValue of 9.969209968386869e+36 used\n",
      "<class 'netCDF4._netCDF4.Variable'>\n",
      "float64 lon(lon)\n",
      "    bounds: lon_bnds\n",
      "    units: degrees_east\n",
      "    axis: X\n",
      "    long_name: Longitude\n",
      "    standard_name: longitude\n",
      "unlimited dimensions: \n",
      "current shape = (128,)\n",
      "filling on, default _FillValue of 9.969209968386869e+36 used\n"
     ]
    }
   ],
   "source": [
    "Latt = data.variables['lat']\n",
    "print(Latt)\n",
    "Lon = data.variables['lon']\n",
    "print(Lon)"
   ]
  },
  {
   "cell_type": "code",
   "execution_count": 6,
   "id": "b9802e0f",
   "metadata": {},
   "outputs": [
    {
     "data": {
      "text/plain": [
       "('time', 'lat', 'lon')"
      ]
     },
     "execution_count": 6,
     "metadata": {},
     "output_type": "execute_result"
    }
   ],
   "source": [
    "# Dimensions\n",
    "wind.dimensions"
   ]
  },
  {
   "cell_type": "code",
   "execution_count": 7,
   "id": "1563570b",
   "metadata": {},
   "outputs": [
    {
     "data": {
      "text/plain": [
       "('lon', 'bnds')"
      ]
     },
     "execution_count": 7,
     "metadata": {},
     "output_type": "execute_result"
    }
   ],
   "source": [
    "londbnds = data.variables['lon_bnds']\n",
    "londbnds.dimensions"
   ]
  },
  {
   "cell_type": "code",
   "execution_count": 8,
   "id": "602b55db",
   "metadata": {},
   "outputs": [
    {
     "name": "stdout",
     "output_type": "stream",
     "text": [
      "[5.00000e-01 1.50000e+00 2.50000e+00 ... 6.02225e+04 6.02235e+04\n",
      " 6.02245e+04]\n"
     ]
    }
   ],
   "source": [
    "# Data Access\n",
    "time_data = data.variables['time'][:]\n",
    "print(time_data)"
   ]
  },
  {
   "cell_type": "code",
   "execution_count": 9,
   "id": "50fef8a7",
   "metadata": {},
   "outputs": [
    {
     "name": "stdout",
     "output_type": "stream",
     "text": [
      "[  0.       2.8125   5.625    8.4375  11.25    14.0625  16.875   19.6875\n",
      "  22.5     25.3125  28.125   30.9375  33.75    36.5625  39.375   42.1875\n",
      "  45.      47.8125  50.625   53.4375  56.25    59.0625  61.875   64.6875\n",
      "  67.5     70.3125  73.125   75.9375  78.75    81.5625  84.375   87.1875\n",
      "  90.      92.8125  95.625   98.4375 101.25   104.0625 106.875  109.6875\n",
      " 112.5    115.3125 118.125  120.9375 123.75   126.5625 129.375  132.1875\n",
      " 135.     137.8125 140.625  143.4375 146.25   149.0625 151.875  154.6875\n",
      " 157.5    160.3125 163.125  165.9375 168.75   171.5625 174.375  177.1875\n",
      " 180.     182.8125 185.625  188.4375 191.25   194.0625 196.875  199.6875\n",
      " 202.5    205.3125 208.125  210.9375 213.75   216.5625 219.375  222.1875\n",
      " 225.     227.8125 230.625  233.4375 236.25   239.0625 241.875  244.6875\n",
      " 247.5    250.3125 253.125  255.9375 258.75   261.5625 264.375  267.1875\n",
      " 270.     272.8125 275.625  278.4375 281.25   284.0625 286.875  289.6875\n",
      " 292.5    295.3125 298.125  300.9375 303.75   306.5625 309.375  312.1875\n",
      " 315.     317.8125 320.625  323.4375 326.25   329.0625 331.875  334.6875\n",
      " 337.5    340.3125 343.125  345.9375 348.75   351.5625 354.375  357.1875]\n"
     ]
    }
   ],
   "source": [
    "lon_data = data.variables['lon'][:]\n",
    "print(lon_data)"
   ]
  },
  {
   "cell_type": "code",
   "execution_count": 10,
   "id": "bd0ef7a0",
   "metadata": {},
   "outputs": [
    {
     "name": "stdout",
     "output_type": "stream",
     "text": [
      "[-87.86379884 -85.09652699 -82.31291295 -79.52560657 -76.73689968\n",
      " -73.94751515 -71.15775201 -68.36775611 -65.57760701 -62.7873518\n",
      " -59.99702011 -57.20663153 -54.41619953 -51.62573367 -48.83524097\n",
      " -46.04472663 -43.25419467 -40.46364818 -37.67308963 -34.88252099\n",
      " -32.09194388 -29.30135962 -26.51076933 -23.72017393 -20.92957425\n",
      " -18.13897099 -15.34836476 -12.55775612  -9.76714556  -6.97653355\n",
      "  -4.18592053  -1.39530691   1.39530691   4.18592053   6.97653355\n",
      "   9.76714556  12.55775612  15.34836476  18.13897099  20.92957425\n",
      "  23.72017393  26.51076933  29.30135962  32.09194388  34.88252099\n",
      "  37.67308963  40.46364818  43.25419467  46.04472663  48.83524097\n",
      "  51.62573367  54.41619953  57.20663153  59.99702011  62.7873518\n",
      "  65.57760701  68.36775611  71.15775201  73.94751515  76.73689968\n",
      "  79.52560657  82.31291295  85.09652699  87.86379884]\n"
     ]
    }
   ],
   "source": [
    "latt_data = data.variables['lat'][:]\n",
    "print(latt_data)"
   ]
  },
  {
   "cell_type": "code",
   "execution_count": 11,
   "id": "29c7e1c9",
   "metadata": {},
   "outputs": [
    {
     "name": "stdout",
     "output_type": "stream",
     "text": [
      "10.0\n"
     ]
    }
   ],
   "source": [
    "height_ = data.variables['height'][:]\n",
    "print(height_)"
   ]
  },
  {
   "cell_type": "code",
   "execution_count": 12,
   "id": "a846e706",
   "metadata": {},
   "outputs": [
    {
     "name": "stdout",
     "output_type": "stream",
     "text": [
      "[[[ 2.6130745  2.4696093  2.1273222 ...  3.2909398  3.005378   2.8751128]\n",
      "  [ 4.113402   3.7909114  3.356351  ...  4.707411   4.614628   4.4204564]\n",
      "  [ 3.4577458  3.3099189  3.1596527 ...  3.476647   3.5695171  3.5752873]\n",
      "  ...\n",
      "  [15.806473  14.561273  12.945953  ... 16.734444  16.89502   16.599821 ]\n",
      "  [12.446957  12.064834  11.509442  ... 12.586384  12.689547  12.640312 ]\n",
      "  [ 9.372861   9.326451   9.272333  ...  9.370743   9.389843   9.371134 ]]\n",
      "\n",
      " [[ 2.7914202  2.5863495  2.372511  ...  3.3980162  3.1987154  3.0266685]\n",
      "  [ 3.3278055  2.6685362  2.0031781 ...  4.8989077  4.4581985  3.938171 ]\n",
      "  [ 4.2130127  3.583574   3.2278016 ...  5.884674   5.4929266  4.960909 ]\n",
      "  ...\n",
      "  [13.458099  12.695028  11.816965  ... 14.374823  14.346197  14.037307 ]\n",
      "  [ 8.725941   7.9685955  7.1551676 ... 10.351868   9.932608   9.387485 ]\n",
      "  [ 7.059473   6.8871307  6.733101  ...  7.62731    7.4123707  7.2452526]]\n",
      "\n",
      " [[ 4.093347   3.7737117  3.486084  ...  4.5487413  4.350606   4.2881985]\n",
      "  [ 3.7469401  3.1241477  2.472575  ...  5.41436    4.9309573  4.3729377]\n",
      "  [ 2.7926176  1.9647255  1.5057104 ...  5.6209407  4.860829   3.8798137]\n",
      "  ...\n",
      "  [11.9882555 11.55932   11.025044  ... 12.333357  12.400458  12.284627 ]\n",
      "  [ 6.291712   5.777417   5.311674  ...  7.6485033  7.26       6.826452 ]\n",
      "  [ 5.304899   5.3446813  5.2272525 ...  5.5223727  5.480275   5.370802 ]]\n",
      "\n",
      " ...\n",
      "\n",
      " [[ 8.187366   7.887336   7.566938  ...  9.001616   8.744736   8.451101 ]\n",
      "  [ 9.249818   8.669557   8.096669  ... 10.720314  10.281403   9.775645 ]\n",
      "  [ 7.243361   6.5297065  5.9304757 ...  9.16656    8.646883   7.9714985]\n",
      "  ...\n",
      "  [ 4.4670253  5.2225633  5.8113956 ...  3.1129928  3.6042006  3.988382 ]\n",
      "  [ 8.6905155  8.866078   8.910314  ...  7.9200773  8.259551   8.4658785]\n",
      "  [ 5.508089   5.310068   5.083691  ...  5.9715247  5.8408957  5.6855974]]\n",
      "\n",
      " [[ 6.4407415  6.226826   6.0373006 ...  7.0080333  6.7968946  6.6026278]\n",
      "  [ 7.7808957  7.5918126  7.4382524 ...  8.656995   8.296094   7.994463 ]\n",
      "  [ 6.597354   5.9480987  5.49205   ...  9.026884   8.190726   7.3567634]\n",
      "  ...\n",
      "  [ 6.8735824  6.6609225  6.8320704 ...  6.1976914  6.6315756  6.838463 ]\n",
      "  [ 4.438817   4.1053185  4.0544157 ...  4.8197584  4.6832547  4.6037803]\n",
      "  [ 4.854615   5.094602   5.271457  ...  4.3971925  4.543368   4.685834 ]]\n",
      "\n",
      " [[ 7.100133   6.995305   6.89038   ...  7.4238214  7.294971   7.1823726]\n",
      "  [ 6.576989   6.1544495  5.824909  ...  8.041062   7.4979978  7.023952 ]\n",
      "  [ 6.5618024  5.705361   5.007665  ...  9.212513   8.38197    7.4782224]\n",
      "  ...\n",
      "  [ 5.9498935  5.561964   5.317973  ...  6.9904356  6.7319317  6.3933825]\n",
      "  [ 6.005887   5.767355   5.5456195 ...  6.0476837  6.1273255  6.0430865]\n",
      "  [ 5.7108727  5.7795825  5.8202686 ...  5.5880885  5.624262   5.665428 ]]]\n"
     ]
    }
   ],
   "source": [
    "wind_speed_data = data.variables['sfcWind'][:]\n",
    "print(wind_speed_data)"
   ]
  },
  {
   "cell_type": "code",
   "execution_count": 13,
   "id": "96014d4c",
   "metadata": {},
   "outputs": [],
   "source": [
    "# Plotting on map\n",
    "import matplotlib.pyplot as plt\n",
    "from mpl_toolkits.basemap import Basemap\n",
    "\n"
   ]
  },
  {
   "cell_type": "code",
   "execution_count": 14,
   "id": "1a5db6c1",
   "metadata": {},
   "outputs": [],
   "source": [
    "# Specifying inputs for map\n",
    "mp = Basemap(projection = 'merc', llcrnrlon = 65.805382, llcrnrlat = 2.788321, urcrnrlon = 92.949680, urcrnrlat = 43.072779, resolution = 'i')"
   ]
  },
  {
   "cell_type": "code",
   "execution_count": 15,
   "id": "b39cbf10",
   "metadata": {},
   "outputs": [
    {
     "name": "stderr",
     "output_type": "stream",
     "text": [
      "<ipython-input-15-58bdd739395e>:5: MatplotlibDeprecationWarning: shading='flat' when X and Y have the same dimensions as C is deprecated since 3.3.  Either specify the corners of the quadrilaterals with X and Y, or pass shading='auto', 'nearest' or 'gouraud', or set rcParams['pcolor.shading'].  This will become an error two minor releases later.\n",
      "  c_scheme = mp.pcolor(x,y,np.squeeze(wind_speed_data[1,:,:]), cmap ='jet')\n"
     ]
    },
    {
     "data": {
      "image/png": "[encoded data removed]",
      "text/plain": [
       "<Figure size 720x720 with 2 Axes>"
      ]
     },
     "metadata": {
      "needs_background": "light"
     },
     "output_type": "display_data"
    }
   ],
   "source": [
    "# Mesh creation and figure specification\n",
    "longi, latti = np.meshgrid(lon_data, latt_data)\n",
    "x,y = mp(longi, latti)\n",
    "plt.figure(figsize = (10,10))\n",
    "c_scheme = mp.pcolor(x,y,np.squeeze(wind_speed_data[1,:,:]), cmap ='jet')\n",
    "mp.drawcoastlines()\n",
    "mp.drawcountries()\n",
    "mp.drawstates()\n",
    "c_bar = mp.colorbar(c_scheme, location = 'right', pad = '100%' )\n",
    "\n",
    "plt.title('Wind speed (m/s) distribution on day 1')\n",
    "plt.show()\n"
   ]
  },
  {
   "cell_type": "code",
   "execution_count": 16,
   "id": "c4959868",
   "metadata": {},
   "outputs": [],
   "source": [
    "# Linear Regression\n",
    "from sklearn.linear_model import LinearRegression\n"
   ]
  },
  {
   "cell_type": "markdown",
   "id": "86a0d0a6",
   "metadata": {},
   "source": [
    "mp = Basemap(projection = 'merc',\n",
    "llcrnrlon =  65.805382,\n",
    "llcrnrlat = 2.788321,\n",
    "urcrnrlon = 92.949680,\n",
    "urcrnrlat =  43.072779,\n",
    "resolution = 'i')"
   ]
  },
  {
   "cell_type": "code",
   "execution_count": 17,
   "id": "8567ef13",
   "metadata": {},
   "outputs": [
    {
     "name": "stdout",
     "output_type": "stream",
     "text": [
      "[50.625  53.4375 56.25   59.0625 61.875  64.6875 67.5    70.3125 73.125\n",
      " 75.9375 78.75   81.5625 84.375  87.1875 90.    ]\n"
     ]
    }
   ],
   "source": [
    "sea_longi1 = data.variables['lon'][18:33] # x as longitudes\n",
    "print(sea_longi1)\n",
    "\n"
   ]
  },
  {
   "cell_type": "code",
   "execution_count": 18,
   "id": "9ec1772f",
   "metadata": {},
   "outputs": [
    {
     "name": "stdout",
     "output_type": "stream",
     "text": [
      "12.55775611523069\n"
     ]
    }
   ],
   "source": [
    "sea_latti = latt_data = data.variables['lat'][36] # Considered lattitude\n",
    "print(sea_latti)"
   ]
  },
  {
   "cell_type": "code",
   "execution_count": 19,
   "id": "62b5e085",
   "metadata": {},
   "outputs": [
    {
     "name": "stdout",
     "output_type": "stream",
     "text": [
      "[ 4.398381   4.239889   3.8688037  3.6740687  4.0573397  4.4743376\n",
      "  4.689563   5.3800497  6.6002026  7.7108116  8.397155   9.833552\n",
      " 11.232594  12.066737  12.244225 ]\n"
     ]
    }
   ],
   "source": [
    " sea_wind_speed =  data.variables['sfcWind'][1,sea_latti, 18:33] # y as wind speed \n",
    "print(sea_wind_speed)"
   ]
  },
  {
   "cell_type": "code",
   "execution_count": 20,
   "id": "7f745a48",
   "metadata": {},
   "outputs": [
    {
     "data": {
      "text/plain": [
       "(15, 1)"
      ]
     },
     "execution_count": 20,
     "metadata": {},
     "output_type": "execute_result"
    }
   ],
   "source": [
    "sea_longi1 = sea_longi1.reshape((-1,1))  # Converting the matrix into suitable order\n",
    "\n",
    "sea_longi1.shape"
   ]
  },
  {
   "cell_type": "code",
   "execution_count": 21,
   "id": "99ff5670",
   "metadata": {},
   "outputs": [
    {
     "data": {
      "text/plain": [
       "LinearRegression()"
      ]
     },
     "execution_count": 21,
     "metadata": {},
     "output_type": "execute_result"
    }
   ],
   "source": [
    "# Using LinearRegression for fit\n",
    "model = LinearRegression() \n",
    "model.fit(sea_longi1, sea_wind_speed)"
   ]
  },
  {
   "cell_type": "code",
   "execution_count": 22,
   "id": "cf8c98a0",
   "metadata": {},
   "outputs": [
    {
     "name": "stdout",
     "output_type": "stream",
     "text": [
      "R square coeff: 0.8726155859112973\n"
     ]
    }
   ],
   "source": [
    "# R-square value\n",
    "r_sq_value = model.score(sea_longi1, sea_wind_speed)\n",
    "print('R square coeff:', r_sq_value)"
   ]
  },
  {
   "cell_type": "code",
   "execution_count": 23,
   "id": "73f5670c",
   "metadata": {
    "scrolled": true
   },
   "outputs": [
    {
     "name": "stdout",
     "output_type": "stream",
     "text": [
      "intercept: -9.636965964805515\n"
     ]
    }
   ],
   "source": [
    "print('intercept:', model.intercept_)"
   ]
  },
  {
   "cell_type": "code",
   "execution_count": 24,
   "id": "f582952a",
   "metadata": {},
   "outputs": [
    {
     "name": "stdout",
     "output_type": "stream",
     "text": [
      "slope: [0.2345929]\n"
     ]
    }
   ],
   "source": [
    "print('slope:', model.coef_)"
   ]
  },
  {
   "cell_type": "code",
   "execution_count": 25,
   "id": "13f1aa4c",
   "metadata": {},
   "outputs": [
    {
     "name": "stdout",
     "output_type": "stream",
     "text": [
      "Actual values: [ 4.398381   4.239889   3.8688037  3.6740687  4.0573397  4.4743376\n",
      "  4.689563   5.3800497  6.6002026  7.7108116  8.397155   9.833552\n",
      " 11.232594  12.066737  12.244225 ]\n",
      "Predicted response: [ 2.23929957  2.8990921   3.55888463  4.21867716  4.87846969  5.53826222\n",
      "  6.19805475  6.85784728  7.51763981  8.17743234  8.83722487  9.4970174\n",
      " 10.15680993 10.81660246 11.47639499]\n"
     ]
    }
   ],
   "source": [
    "sea_windspeed_predict = model.predict(sea_longi1)\n",
    "print('Actual values:', sea_wind_speed)\n",
    "print('Predicted response:', sea_windspeed_predict)"
   ]
  },
  {
   "cell_type": "code",
   "execution_count": 26,
   "id": "14b5426f",
   "metadata": {},
   "outputs": [
    {
     "data": {
      "image/png": "[encoded data removed]",
      "text/plain": [
       "<Figure size 432x432 with 1 Axes>"
      ]
     },
     "metadata": {
      "needs_background": "light"
     },
     "output_type": "display_data"
    }
   ],
   "source": [
    "# Regression figure\n",
    "plt.figure(figsize = (6,6))\n",
    "plt.plot(sea_longi1, sea_windspeed_predict)\n",
    "plt.scatter(sea_longi1, sea_wind_speed)\n",
    "plt.xlabel('Longitude (in decimal degrees)')\n",
    "plt.ylabel('Wind speed in m/s')\n",
    "plt.legend('PA') # P for predicted and A for actual\n",
    "plt.title('Fit for wind speed over longitude over given lattitude')\n",
    "plt.show()"
   ]
  },
  {
   "cell_type": "code",
   "execution_count": null,
   "id": "20acddc3",
   "metadata": {},
   "outputs": [],
   "source": []
  },
  {
   "cell_type": "code",
   "execution_count": null,
   "id": "5806d306",
   "metadata": {},
   "outputs": [],
   "source": []
  },
  {
   "cell_type": "code",
   "execution_count": null,
   "id": "c9c86045",
   "metadata": {},
   "outputs": [],
   "source": []
  },
  {
   "cell_type": "code",
   "execution_count": null,
   "id": "3493ec83",
   "metadata": {},
   "outputs": [],
   "source": []
  },
  {
   "cell_type": "code",
   "execution_count": null,
   "id": "cd575b28",
   "metadata": {
    "scrolled": false
   },
   "outputs": [],
   "source": []
  },
  {
   "cell_type": "code",
   "execution_count": null,
   "id": "ff94b523",
   "metadata": {},
   "outputs": [],
   "source": [
    "\n"
   ]
  },
  {
   "cell_type": "code",
   "execution_count": null,
   "id": "af4eef2d",
   "metadata": {},
   "outputs": [],
   "source": []
  }
 ],
 "metadata": {
  "kernelspec": {
   "display_name": "Python 3",
   "language": "python",
   "name": "python3"
  },
  "language_info": {
   "codemirror_mode": {
    "name": "ipython",
    "version": 3
   },
   "file_extension": ".py",
   "mimetype": "text/x-python",
   "name": "python",
   "nbconvert_exporter": "python",
   "pygments_lexer": "ipython3",
   "version": "3.8.8"
  }
 },
 "nbformat": 4,
 "nbformat_minor": 5
}
